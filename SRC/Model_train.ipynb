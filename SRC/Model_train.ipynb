{
  "cells": [
    {
      "cell_type": "code",
      "execution_count": 1,
      "metadata": {
        "colab": {
          "base_uri": "https://localhost:8080/",
          "height": 376
        },
        "id": "5GG2ee5dh2qb",
        "outputId": "a67744c9-9927-4c52-b66b-d148e24a7724"
      },
      "outputs": [
        {
          "ename": "ModuleNotFoundError",
          "evalue": "ignored",
          "output_type": "error",
          "traceback": [
            "\u001b[0;31m---------------------------------------------------------------------------\u001b[0m",
            "\u001b[0;31mModuleNotFoundError\u001b[0m                       Traceback (most recent call last)",
            "\u001b[0;32m<ipython-input-1-32d2bd8e30c7>\u001b[0m in \u001b[0;36m<module>\u001b[0;34m()\u001b[0m\n\u001b[1;32m      4\u001b[0m \u001b[0;32mimport\u001b[0m \u001b[0msklearn\u001b[0m\u001b[0;34m\u001b[0m\u001b[0;34m\u001b[0m\u001b[0m\n\u001b[1;32m      5\u001b[0m \u001b[0;32mimport\u001b[0m \u001b[0mos\u001b[0m\u001b[0;34m\u001b[0m\u001b[0;34m\u001b[0m\u001b[0m\n\u001b[0;32m----> 6\u001b[0;31m \u001b[0;32mimport\u001b[0m \u001b[0mmodelHandler\u001b[0m\u001b[0;34m\u001b[0m\u001b[0;34m\u001b[0m\u001b[0m\n\u001b[0m\u001b[1;32m      7\u001b[0m \u001b[0;32mfrom\u001b[0m \u001b[0mxgboost\u001b[0m \u001b[0;32mimport\u001b[0m \u001b[0mXGBClassifier\u001b[0m\u001b[0;34m\u001b[0m\u001b[0;34m\u001b[0m\u001b[0m\n\u001b[1;32m      8\u001b[0m \u001b[0;32mimport\u001b[0m \u001b[0mnumpy\u001b[0m \u001b[0;32mas\u001b[0m \u001b[0mnp\u001b[0m\u001b[0;34m\u001b[0m\u001b[0;34m\u001b[0m\u001b[0m\n",
            "\u001b[0;31mModuleNotFoundError\u001b[0m: No module named 'modelHandler'",
            "",
            "\u001b[0;31m---------------------------------------------------------------------------\u001b[0;32m\nNOTE: If your import is failing due to a missing package, you can\nmanually install dependencies using either !pip or !apt.\n\nTo view examples of installing some common dependencies, click the\n\"Open Examples\" button below.\n\u001b[0;31m---------------------------------------------------------------------------\u001b[0m\n"
          ]
        }
      ],
      "source": [
        "from google.colab import files\n",
        "import pandas as pd\n",
        "import pandas_profiling \n",
        "import sklearn\n",
        "import os\n",
        "import modelHandler\n",
        "from xgboost import XGBClassifier\n",
        "import numpy as np\n",
        "from sklearn.model_selection import train_test_split\n",
        "from imblearn.over_sampling import KMeansSMOTE, SMOTE, SVMSMOTE"
      ]
    },
    {
      "cell_type": "code",
      "execution_count": null,
      "metadata": {
        "colab": {
          "base_uri": "https://localhost:8080/",
          "height": 382
        },
        "id": "NDHh0RcNjuIh",
        "outputId": "21e6e2aa-c0c8-4723-c0fd-1a84888d0009"
      },
      "outputs": [
        {
          "ename": "FileNotFoundError",
          "evalue": "ignored",
          "output_type": "error",
          "traceback": [
            "\u001b[0;31m---------------------------------------------------------------------------\u001b[0m",
            "\u001b[0;31mFileNotFoundError\u001b[0m                         Traceback (most recent call last)",
            "\u001b[0;32m<ipython-input-3-9cdae71a401a>\u001b[0m in \u001b[0;36m<module>\u001b[0;34m()\u001b[0m\n\u001b[0;32m----> 1\u001b[0;31m \u001b[0mdf_train\u001b[0m \u001b[0;34m=\u001b[0m \u001b[0mpd\u001b[0m\u001b[0;34m.\u001b[0m\u001b[0mread_csv\u001b[0m\u001b[0;34m(\u001b[0m\u001b[0;34m'train.csv'\u001b[0m\u001b[0;34m,\u001b[0m \u001b[0mindex_col\u001b[0m \u001b[0;34m=\u001b[0m \u001b[0;36m0\u001b[0m\u001b[0;34m)\u001b[0m\u001b[0;34m\u001b[0m\u001b[0;34m\u001b[0m\u001b[0m\n\u001b[0m\u001b[1;32m      2\u001b[0m \u001b[0mdf_test\u001b[0m \u001b[0;34m=\u001b[0m \u001b[0mpd\u001b[0m\u001b[0;34m.\u001b[0m\u001b[0mread_csv\u001b[0m\u001b[0;34m(\u001b[0m\u001b[0;34m'test_x.csv'\u001b[0m\u001b[0;34m,\u001b[0m \u001b[0mindex_col\u001b[0m \u001b[0;34m=\u001b[0m \u001b[0;36m0\u001b[0m\u001b[0;34m)\u001b[0m\u001b[0;34m\u001b[0m\u001b[0;34m\u001b[0m\u001b[0m\n\u001b[1;32m      3\u001b[0m \u001b[0;34m\u001b[0m\u001b[0m\n\u001b[1;32m      4\u001b[0m \u001b[0;31m#cols_train = ['Hour','Sensor_alpha', 'Sensor_beta', 'Sensor_gamma',\u001b[0m\u001b[0;34m\u001b[0m\u001b[0;34m\u001b[0m\u001b[0;34m\u001b[0m\u001b[0m\n\u001b[1;32m      5\u001b[0m \u001b[0;31m#       'Sensor_alpha_plus', 'Sensor_beta_plus', 'Sensor_gamma_plus']\u001b[0m\u001b[0;34m\u001b[0m\u001b[0;34m\u001b[0m\u001b[0;34m\u001b[0m\u001b[0m\n",
            "\u001b[0;32m/usr/local/lib/python3.7/dist-packages/pandas/util/_decorators.py\u001b[0m in \u001b[0;36mwrapper\u001b[0;34m(*args, **kwargs)\u001b[0m\n\u001b[1;32m    309\u001b[0m                     \u001b[0mstacklevel\u001b[0m\u001b[0;34m=\u001b[0m\u001b[0mstacklevel\u001b[0m\u001b[0;34m,\u001b[0m\u001b[0;34m\u001b[0m\u001b[0;34m\u001b[0m\u001b[0m\n\u001b[1;32m    310\u001b[0m                 )\n\u001b[0;32m--> 311\u001b[0;31m             \u001b[0;32mreturn\u001b[0m \u001b[0mfunc\u001b[0m\u001b[0;34m(\u001b[0m\u001b[0;34m*\u001b[0m\u001b[0margs\u001b[0m\u001b[0;34m,\u001b[0m \u001b[0;34m**\u001b[0m\u001b[0mkwargs\u001b[0m\u001b[0;34m)\u001b[0m\u001b[0;34m\u001b[0m\u001b[0;34m\u001b[0m\u001b[0m\n\u001b[0m\u001b[1;32m    312\u001b[0m \u001b[0;34m\u001b[0m\u001b[0m\n\u001b[1;32m    313\u001b[0m         \u001b[0;32mreturn\u001b[0m \u001b[0mwrapper\u001b[0m\u001b[0;34m\u001b[0m\u001b[0;34m\u001b[0m\u001b[0m\n",
            "\u001b[0;32m/usr/local/lib/python3.7/dist-packages/pandas/io/parsers/readers.py\u001b[0m in \u001b[0;36mread_csv\u001b[0;34m(filepath_or_buffer, sep, delimiter, header, names, index_col, usecols, squeeze, prefix, mangle_dupe_cols, dtype, engine, converters, true_values, false_values, skipinitialspace, skiprows, skipfooter, nrows, na_values, keep_default_na, na_filter, verbose, skip_blank_lines, parse_dates, infer_datetime_format, keep_date_col, date_parser, dayfirst, cache_dates, iterator, chunksize, compression, thousands, decimal, lineterminator, quotechar, quoting, doublequote, escapechar, comment, encoding, encoding_errors, dialect, error_bad_lines, warn_bad_lines, on_bad_lines, delim_whitespace, low_memory, memory_map, float_precision, storage_options)\u001b[0m\n\u001b[1;32m    584\u001b[0m     \u001b[0mkwds\u001b[0m\u001b[0;34m.\u001b[0m\u001b[0mupdate\u001b[0m\u001b[0;34m(\u001b[0m\u001b[0mkwds_defaults\u001b[0m\u001b[0;34m)\u001b[0m\u001b[0;34m\u001b[0m\u001b[0;34m\u001b[0m\u001b[0m\n\u001b[1;32m    585\u001b[0m \u001b[0;34m\u001b[0m\u001b[0m\n\u001b[0;32m--> 586\u001b[0;31m     \u001b[0;32mreturn\u001b[0m \u001b[0m_read\u001b[0m\u001b[0;34m(\u001b[0m\u001b[0mfilepath_or_buffer\u001b[0m\u001b[0;34m,\u001b[0m \u001b[0mkwds\u001b[0m\u001b[0;34m)\u001b[0m\u001b[0;34m\u001b[0m\u001b[0;34m\u001b[0m\u001b[0m\n\u001b[0m\u001b[1;32m    587\u001b[0m \u001b[0;34m\u001b[0m\u001b[0m\n\u001b[1;32m    588\u001b[0m \u001b[0;34m\u001b[0m\u001b[0m\n",
            "\u001b[0;32m/usr/local/lib/python3.7/dist-packages/pandas/io/parsers/readers.py\u001b[0m in \u001b[0;36m_read\u001b[0;34m(filepath_or_buffer, kwds)\u001b[0m\n\u001b[1;32m    480\u001b[0m \u001b[0;34m\u001b[0m\u001b[0m\n\u001b[1;32m    481\u001b[0m     \u001b[0;31m# Create the parser.\u001b[0m\u001b[0;34m\u001b[0m\u001b[0;34m\u001b[0m\u001b[0;34m\u001b[0m\u001b[0m\n\u001b[0;32m--> 482\u001b[0;31m     \u001b[0mparser\u001b[0m \u001b[0;34m=\u001b[0m \u001b[0mTextFileReader\u001b[0m\u001b[0;34m(\u001b[0m\u001b[0mfilepath_or_buffer\u001b[0m\u001b[0;34m,\u001b[0m \u001b[0;34m**\u001b[0m\u001b[0mkwds\u001b[0m\u001b[0;34m)\u001b[0m\u001b[0;34m\u001b[0m\u001b[0;34m\u001b[0m\u001b[0m\n\u001b[0m\u001b[1;32m    483\u001b[0m \u001b[0;34m\u001b[0m\u001b[0m\n\u001b[1;32m    484\u001b[0m     \u001b[0;32mif\u001b[0m \u001b[0mchunksize\u001b[0m \u001b[0;32mor\u001b[0m \u001b[0miterator\u001b[0m\u001b[0;34m:\u001b[0m\u001b[0;34m\u001b[0m\u001b[0;34m\u001b[0m\u001b[0m\n",
            "\u001b[0;32m/usr/local/lib/python3.7/dist-packages/pandas/io/parsers/readers.py\u001b[0m in \u001b[0;36m__init__\u001b[0;34m(self, f, engine, **kwds)\u001b[0m\n\u001b[1;32m    809\u001b[0m             \u001b[0mself\u001b[0m\u001b[0;34m.\u001b[0m\u001b[0moptions\u001b[0m\u001b[0;34m[\u001b[0m\u001b[0;34m\"has_index_names\"\u001b[0m\u001b[0;34m]\u001b[0m \u001b[0;34m=\u001b[0m \u001b[0mkwds\u001b[0m\u001b[0;34m[\u001b[0m\u001b[0;34m\"has_index_names\"\u001b[0m\u001b[0;34m]\u001b[0m\u001b[0;34m\u001b[0m\u001b[0;34m\u001b[0m\u001b[0m\n\u001b[1;32m    810\u001b[0m \u001b[0;34m\u001b[0m\u001b[0m\n\u001b[0;32m--> 811\u001b[0;31m         \u001b[0mself\u001b[0m\u001b[0;34m.\u001b[0m\u001b[0m_engine\u001b[0m \u001b[0;34m=\u001b[0m \u001b[0mself\u001b[0m\u001b[0;34m.\u001b[0m\u001b[0m_make_engine\u001b[0m\u001b[0;34m(\u001b[0m\u001b[0mself\u001b[0m\u001b[0;34m.\u001b[0m\u001b[0mengine\u001b[0m\u001b[0;34m)\u001b[0m\u001b[0;34m\u001b[0m\u001b[0;34m\u001b[0m\u001b[0m\n\u001b[0m\u001b[1;32m    812\u001b[0m \u001b[0;34m\u001b[0m\u001b[0m\n\u001b[1;32m    813\u001b[0m     \u001b[0;32mdef\u001b[0m \u001b[0mclose\u001b[0m\u001b[0;34m(\u001b[0m\u001b[0mself\u001b[0m\u001b[0;34m)\u001b[0m\u001b[0;34m:\u001b[0m\u001b[0;34m\u001b[0m\u001b[0;34m\u001b[0m\u001b[0m\n",
            "\u001b[0;32m/usr/local/lib/python3.7/dist-packages/pandas/io/parsers/readers.py\u001b[0m in \u001b[0;36m_make_engine\u001b[0;34m(self, engine)\u001b[0m\n\u001b[1;32m   1038\u001b[0m             )\n\u001b[1;32m   1039\u001b[0m         \u001b[0;31m# error: Too many arguments for \"ParserBase\"\u001b[0m\u001b[0;34m\u001b[0m\u001b[0;34m\u001b[0m\u001b[0;34m\u001b[0m\u001b[0m\n\u001b[0;32m-> 1040\u001b[0;31m         \u001b[0;32mreturn\u001b[0m \u001b[0mmapping\u001b[0m\u001b[0;34m[\u001b[0m\u001b[0mengine\u001b[0m\u001b[0;34m]\u001b[0m\u001b[0;34m(\u001b[0m\u001b[0mself\u001b[0m\u001b[0;34m.\u001b[0m\u001b[0mf\u001b[0m\u001b[0;34m,\u001b[0m \u001b[0;34m**\u001b[0m\u001b[0mself\u001b[0m\u001b[0;34m.\u001b[0m\u001b[0moptions\u001b[0m\u001b[0;34m)\u001b[0m  \u001b[0;31m# type: ignore[call-arg]\u001b[0m\u001b[0;34m\u001b[0m\u001b[0;34m\u001b[0m\u001b[0m\n\u001b[0m\u001b[1;32m   1041\u001b[0m \u001b[0;34m\u001b[0m\u001b[0m\n\u001b[1;32m   1042\u001b[0m     \u001b[0;32mdef\u001b[0m \u001b[0m_failover_to_python\u001b[0m\u001b[0;34m(\u001b[0m\u001b[0mself\u001b[0m\u001b[0;34m)\u001b[0m\u001b[0;34m:\u001b[0m\u001b[0;34m\u001b[0m\u001b[0;34m\u001b[0m\u001b[0m\n",
            "\u001b[0;32m/usr/local/lib/python3.7/dist-packages/pandas/io/parsers/c_parser_wrapper.py\u001b[0m in \u001b[0;36m__init__\u001b[0;34m(self, src, **kwds)\u001b[0m\n\u001b[1;32m     49\u001b[0m \u001b[0;34m\u001b[0m\u001b[0m\n\u001b[1;32m     50\u001b[0m         \u001b[0;31m# open handles\u001b[0m\u001b[0;34m\u001b[0m\u001b[0;34m\u001b[0m\u001b[0;34m\u001b[0m\u001b[0m\n\u001b[0;32m---> 51\u001b[0;31m         \u001b[0mself\u001b[0m\u001b[0;34m.\u001b[0m\u001b[0m_open_handles\u001b[0m\u001b[0;34m(\u001b[0m\u001b[0msrc\u001b[0m\u001b[0;34m,\u001b[0m \u001b[0mkwds\u001b[0m\u001b[0;34m)\u001b[0m\u001b[0;34m\u001b[0m\u001b[0;34m\u001b[0m\u001b[0m\n\u001b[0m\u001b[1;32m     52\u001b[0m         \u001b[0;32massert\u001b[0m \u001b[0mself\u001b[0m\u001b[0;34m.\u001b[0m\u001b[0mhandles\u001b[0m \u001b[0;32mis\u001b[0m \u001b[0;32mnot\u001b[0m \u001b[0;32mNone\u001b[0m\u001b[0;34m\u001b[0m\u001b[0;34m\u001b[0m\u001b[0m\n\u001b[1;32m     53\u001b[0m \u001b[0;34m\u001b[0m\u001b[0m\n",
            "\u001b[0;32m/usr/local/lib/python3.7/dist-packages/pandas/io/parsers/base_parser.py\u001b[0m in \u001b[0;36m_open_handles\u001b[0;34m(self, src, kwds)\u001b[0m\n\u001b[1;32m    227\u001b[0m             \u001b[0mmemory_map\u001b[0m\u001b[0;34m=\u001b[0m\u001b[0mkwds\u001b[0m\u001b[0;34m.\u001b[0m\u001b[0mget\u001b[0m\u001b[0;34m(\u001b[0m\u001b[0;34m\"memory_map\"\u001b[0m\u001b[0;34m,\u001b[0m \u001b[0;32mFalse\u001b[0m\u001b[0;34m)\u001b[0m\u001b[0;34m,\u001b[0m\u001b[0;34m\u001b[0m\u001b[0;34m\u001b[0m\u001b[0m\n\u001b[1;32m    228\u001b[0m             \u001b[0mstorage_options\u001b[0m\u001b[0;34m=\u001b[0m\u001b[0mkwds\u001b[0m\u001b[0;34m.\u001b[0m\u001b[0mget\u001b[0m\u001b[0;34m(\u001b[0m\u001b[0;34m\"storage_options\"\u001b[0m\u001b[0;34m,\u001b[0m \u001b[0;32mNone\u001b[0m\u001b[0;34m)\u001b[0m\u001b[0;34m,\u001b[0m\u001b[0;34m\u001b[0m\u001b[0;34m\u001b[0m\u001b[0m\n\u001b[0;32m--> 229\u001b[0;31m             \u001b[0merrors\u001b[0m\u001b[0;34m=\u001b[0m\u001b[0mkwds\u001b[0m\u001b[0;34m.\u001b[0m\u001b[0mget\u001b[0m\u001b[0;34m(\u001b[0m\u001b[0;34m\"encoding_errors\"\u001b[0m\u001b[0;34m,\u001b[0m \u001b[0;34m\"strict\"\u001b[0m\u001b[0;34m)\u001b[0m\u001b[0;34m,\u001b[0m\u001b[0;34m\u001b[0m\u001b[0;34m\u001b[0m\u001b[0m\n\u001b[0m\u001b[1;32m    230\u001b[0m         )\n\u001b[1;32m    231\u001b[0m \u001b[0;34m\u001b[0m\u001b[0m\n",
            "\u001b[0;32m/usr/local/lib/python3.7/dist-packages/pandas/io/common.py\u001b[0m in \u001b[0;36mget_handle\u001b[0;34m(path_or_buf, mode, encoding, compression, memory_map, is_text, errors, storage_options)\u001b[0m\n\u001b[1;32m    705\u001b[0m                 \u001b[0mencoding\u001b[0m\u001b[0;34m=\u001b[0m\u001b[0mioargs\u001b[0m\u001b[0;34m.\u001b[0m\u001b[0mencoding\u001b[0m\u001b[0;34m,\u001b[0m\u001b[0;34m\u001b[0m\u001b[0;34m\u001b[0m\u001b[0m\n\u001b[1;32m    706\u001b[0m                 \u001b[0merrors\u001b[0m\u001b[0;34m=\u001b[0m\u001b[0merrors\u001b[0m\u001b[0;34m,\u001b[0m\u001b[0;34m\u001b[0m\u001b[0;34m\u001b[0m\u001b[0m\n\u001b[0;32m--> 707\u001b[0;31m                 \u001b[0mnewline\u001b[0m\u001b[0;34m=\u001b[0m\u001b[0;34m\"\"\u001b[0m\u001b[0;34m,\u001b[0m\u001b[0;34m\u001b[0m\u001b[0;34m\u001b[0m\u001b[0m\n\u001b[0m\u001b[1;32m    708\u001b[0m             )\n\u001b[1;32m    709\u001b[0m         \u001b[0;32melse\u001b[0m\u001b[0;34m:\u001b[0m\u001b[0;34m\u001b[0m\u001b[0;34m\u001b[0m\u001b[0m\n",
            "\u001b[0;31mFileNotFoundError\u001b[0m: [Errno 2] No such file or directory: 'train.csv'"
          ]
        }
      ],
      "source": [
        "df_train = pd.read_csv('train.csv', index_col = 0)\n",
        "df_test = pd.read_csv('test_x.csv', index_col = 0)\n",
        "\n",
        "#cols_train = ['Hour','Sensor_alpha', 'Sensor_beta', 'Sensor_gamma',\n",
        "#       'Sensor_alpha_plus', 'Sensor_beta_plus', 'Sensor_gamma_plus']\n",
        "cols_train = ['Hour', 'Sensor_beta', 'Sensor_gamma',\n",
        "       'Sensor_alpha_plus']\n",
        "target_train = ['Insect']\n",
        "\n",
        "x_train = df_train[cols_train].to_numpy()\n",
        "y_train = df_train[target_train].to_numpy().ravel()\n",
        "\n",
        "x_test = df_test[cols_train].to_numpy() "
      ]
    },
    {
      "cell_type": "code",
      "execution_count": null,
      "metadata": {
        "colab": {
          "base_uri": "https://localhost:8080/"
        },
        "id": "eL2tZMjwrC4S",
        "outputId": "67b29d21-34cb-40c8-fb51-5db2f562cb45"
      },
      "outputs": [
        {
          "data": {
            "text/plain": [
              "{0: 3519, 1: 2793, 2: 689}"
            ]
          },
          "execution_count": 135,
          "metadata": {},
          "output_type": "execute_result"
        }
      ],
      "source": [
        "unique, counts = np.unique(y_train, return_counts=True)\n",
        "dict(zip(unique, counts))"
      ]
    },
    {
      "cell_type": "code",
      "execution_count": null,
      "metadata": {
        "colab": {
          "base_uri": "https://localhost:8080/"
        },
        "id": "jq7V9A9Fql_2",
        "outputId": "9a6eccf6-4a3f-43cb-ed02-f3448f261fa0"
      },
      "outputs": [
        {
          "data": {
            "text/plain": [
              "(7001, 4)"
            ]
          },
          "execution_count": 136,
          "metadata": {},
          "output_type": "execute_result"
        }
      ],
      "source": [
        "x_train.shape"
      ]
    },
    {
      "cell_type": "markdown",
      "metadata": {
        "id": "s6ENlLC9VDn7"
      },
      "source": [
        "# Grid search"
      ]
    },
    {
      "cell_type": "code",
      "execution_count": null,
      "metadata": {
        "id": "UulN-NnGul0Y"
      },
      "outputs": [],
      "source": [
        "X_train0, X_test0, y_train0, y_test0 = train_test_split(x_train, y_train, test_size=0.2, random_state=42)"
      ]
    },
    {
      "cell_type": "code",
      "execution_count": null,
      "metadata": {
        "colab": {
          "base_uri": "https://localhost:8080/"
        },
        "id": "3bJP7z7YvAo0",
        "outputId": "85cb179c-5513-42ba-b6b9-25a5f133e85c"
      },
      "outputs": [
        {
          "data": {
            "text/plain": [
              "{0: 2823, 1: 2823, 2: 2823}"
            ]
          },
          "execution_count": 138,
          "metadata": {},
          "output_type": "execute_result"
        }
      ],
      "source": [
        "sm = SMOTE(random_state = 42, n_jobs = -1)\n",
        "x0, y0 = sm.fit_resample(X_train0, y_train0)\n",
        "unique, counts = np.unique(y0, return_counts=True)\n",
        "dict(zip(unique, counts))"
      ]
    },
    {
      "cell_type": "code",
      "execution_count": null,
      "metadata": {
        "id": "Xc9Dvzs9jqkx"
      },
      "outputs": [],
      "source": [
        "x = modelHandler.ModelHandler(X = x0, Y = y0, model = 'XGB')"
      ]
    },
    {
      "cell_type": "code",
      "execution_count": null,
      "metadata": {
        "colab": {
          "base_uri": "https://localhost:8080/"
        },
        "id": "Z-LxYac1mfsa",
        "outputId": "5facfa8f-157b-4156-c51c-6bc8224edd9b"
      },
      "outputs": [
        {
          "name": "stderr",
          "output_type": "stream",
          "text": [
            "/usr/local/lib/python3.7/dist-packages/sklearn/model_selection/_validation.py:372: FitFailedWarning: \n",
            "1080 fits failed out of a total of 3240.\n",
            "The score on these train-test partitions for these parameters will be set to nan.\n",
            "If these failures are not expected, you can try to debug them by setting error_score='raise'.\n",
            "\n",
            "Below are more details about the failures:\n",
            "--------------------------------------------------------------------------------\n",
            "1080 fits failed with the following error:\n",
            "Traceback (most recent call last):\n",
            "  File \"/usr/local/lib/python3.7/dist-packages/sklearn/model_selection/_validation.py\", line 680, in _fit_and_score\n",
            "    estimator.fit(X_train, y_train, **fit_params)\n",
            "  File \"/usr/local/lib/python3.7/dist-packages/xgboost/sklearn.py\", line 732, in fit\n",
            "    callbacks=callbacks)\n",
            "  File \"/usr/local/lib/python3.7/dist-packages/xgboost/training.py\", line 216, in train\n",
            "    xgb_model=xgb_model, callbacks=callbacks)\n",
            "  File \"/usr/local/lib/python3.7/dist-packages/xgboost/training.py\", line 74, in _train_internal\n",
            "    bst.update(dtrain, i, obj)\n",
            "  File \"/usr/local/lib/python3.7/dist-packages/xgboost/core.py\", line 1109, in update\n",
            "    dtrain.handle))\n",
            "  File \"/usr/local/lib/python3.7/dist-packages/xgboost/core.py\", line 176, in _check_call\n",
            "    raise XGBoostError(py_str(_LIB.XGBGetLastError()))\n",
            "xgboost.core.XGBoostError: value 7 for Parameter colsample_bytree exceed bound [0,1]\n",
            "\n",
            "  warnings.warn(some_fits_failed_message, FitFailedWarning)\n",
            "/usr/local/lib/python3.7/dist-packages/sklearn/model_selection/_search.py:972: UserWarning: One or more of the test scores are non-finite: [0.87072019 0.87213695 0.86115702 0.88417946 0.88547816 0.88051948\n",
            " 0.89622196 0.89704841 0.89456907 0.87154664 0.87119244 0.86103896\n",
            " 0.8850059  0.88547816 0.88063754 0.89752066 0.89669421 0.89622196\n",
            " 0.89551358 0.89752066 0.88181818 0.9025974  0.90436836 0.89397875\n",
            " 0.90850059 0.90731995 0.90543093 0.89657615 0.89822904 0.88170012\n",
            " 0.90342385 0.90413223 0.89433294 0.9107438  0.90932704 0.90791027\n",
            " 0.89492326 0.89397875 0.87331759 0.90118064 0.9        0.88276269\n",
            " 0.9042503  0.90354191 0.89515939 0.89681228 0.89704841 0.87815821\n",
            " 0.90224321 0.90306966 0.88937426 0.90956316 0.9081464  0.90082645\n",
            " 0.89468713 0.88878394 0.87095632 0.9        0.89964581 0.88063754\n",
            " 0.90224321 0.90283353 0.89374262 0.89693034 0.89527745 0.8755608\n",
            " 0.90306966 0.90247934 0.88842975 0.90909091 0.9068477  0.89905549\n",
            " 0.86953955 0.87012987 0.86021251 0.88358914 0.88453365 0.8798111\n",
            " 0.8957497  0.89634002 0.89539551 0.86965762 0.87001181 0.86056671\n",
            " 0.88347107 0.88453365 0.87992916 0.89586777 0.89728453 0.89563164\n",
            " 0.89645809 0.89693034 0.88229044 0.90354191 0.90484061 0.89433294\n",
            " 0.91027155 0.91015348 0.90743802 0.89563164 0.8974026  0.88170012\n",
            " 0.90448642 0.90436836 0.89397875 0.91121606 0.91097993 0.90885478\n",
            " 0.89586777 0.89645809 0.87768595 0.90413223 0.90578512 0.89138135\n",
            " 0.9094451  0.90968123 0.90637544 0.89704841 0.89858323 0.88028335\n",
            " 0.9038961  0.90519481 0.89386068 0.91050767 0.91086187 0.90661157\n",
            " 0.89669421 0.89716647 0.87815821 0.90401417 0.90436836 0.88996458\n",
            " 0.90920897 0.9094451  0.90472255 0.89681228 0.89822904 0.88004723\n",
            " 0.9038961  0.90507674 0.89126328 0.91097993 0.91109799 0.9068477\n",
            " 0.86717828 0.8690673  0.85808737 0.87709563 0.87839433 0.87815821\n",
            " 0.89043684 0.89220779 0.89244392 0.86706021 0.86883117 0.85832349\n",
            " 0.87697757 0.87792208 0.87827627 0.88984652 0.8918536  0.89244392\n",
            " 0.88677686 0.88972845 0.87591499 0.89220779 0.89480519 0.88736718\n",
            " 0.89929162 0.9012987  0.89846517 0.8863046  0.88831169 0.87650531\n",
            " 0.8918536  0.89232586 0.88807556 0.89976387 0.90047226 0.89929162\n",
            " 0.88654073 0.88972845 0.8755608  0.89208973 0.89409681 0.88807556\n",
            " 0.90011806 0.90212515 0.90165289 0.8866588  0.88913813 0.87414404\n",
            " 0.8918536  0.89456907 0.8879575  0.90082645 0.90200708 0.90177096\n",
            " 0.88677686 0.89031877 0.87579693 0.89161747 0.89433294 0.88807556\n",
            " 0.90035419 0.90236128 0.90153483 0.8866588  0.88902007 0.87485242\n",
            " 0.89232586 0.89480519 0.88807556 0.90082645 0.90177096 0.90188902\n",
            " 0.87567887 0.87603306 0.87827627 0.8892562  0.89114522 0.88890201\n",
            " 0.91393152 0.91286895 0.90956316 0.8755608  0.87567887 0.87638725\n",
            " 0.88902007 0.88937426 0.88890201 0.91322314 0.91286895 0.90897285\n",
            " 0.91664699 0.91747344 0.91782763 0.92479339 0.92680047 0.92585596\n",
            " 0.93435655 0.93353011 0.93010626 0.91003542 0.91038961 0.91050767\n",
            " 0.91995277 0.92184179 0.92125148 0.92927981 0.92892562 0.92668241\n",
            " 0.92550177 0.92644628 0.92325856 0.93128689 0.92951594 0.92798111\n",
            " 0.93553719 0.935183   0.93270366 0.91782763 0.91853601 0.91924439\n",
            " 0.92467532 0.92609209 0.92597403 0.93152302 0.93128689 0.92975207\n",
            " 0.92585596 0.92609209 0.92432113 0.93057851 0.93046045 0.92892562\n",
            " 0.93730815 0.93577332 0.93175915 0.9175915  0.91900826 0.91747344\n",
            " 0.92384888 0.92656434 0.92668241 0.93105077 0.93010626 0.93069658\n",
            " 0.8755608  0.87591499 0.87674144 0.88866588 0.89043684 0.88972845\n",
            " 0.91345927 0.91157025 0.9107438  0.87508855 0.87544274 0.87532468\n",
            " 0.8892562  0.88996458 0.88783943 0.91322314 0.91133412 0.90873672\n",
            " 0.9149941  0.91463991 0.91511216 0.92420307 0.92550177 0.92337662\n",
            " 0.93116883 0.93199528 0.929634   0.90932704 0.91015348 0.90991736\n",
            " 0.91877214 0.92101535 0.91959858 0.92880756 0.92857143 0.92526564\n",
            " 0.92290437 0.92408501 0.92349469 0.92916175 0.92987013 0.92951594\n",
            " 0.93364817 0.93164109 0.93293979 0.91582054 0.91747344 0.91723731\n",
            " 0.92302243 0.92597403 0.92727273 0.93105077 0.929634   0.93270366\n",
            " 0.92408501 0.9244392  0.9227863  0.92821724 0.92939787 0.93034238\n",
            " 0.93246753 0.93317591 0.93282172 0.91570248 0.91747344 0.91747344\n",
            " 0.92349469 0.92644628 0.92656434 0.93069658 0.92975207 0.93175915\n",
            " 0.87520661 0.87473436 0.87343566 0.88618654 0.8866588  0.88724911\n",
            " 0.9068477  0.90672963 0.90495868 0.87485242 0.87485242 0.87438017\n",
            " 0.88689492 0.88724911 0.88677686 0.90649351 0.90613932 0.90531287\n",
            " 0.90283353 0.90413223 0.90342385 0.90920897 0.91121606 0.91038961\n",
            " 0.91664699 0.91711924 0.91570248 0.90165289 0.90295159 0.90283353\n",
            " 0.90743802 0.91003542 0.91168831 0.91452184 0.91641086 0.91664699\n",
            " 0.90743802 0.90861865 0.90897285 0.91145218 0.91381346 0.9149941\n",
            " 0.91676505 0.9201889  0.91924439 0.90472255 0.90731995 0.90755608\n",
            " 0.90861865 0.91404959 0.91582054 0.91617473 0.91983471 0.91865407\n",
            " 0.90743802 0.90861865 0.90920897 0.91168831 0.91345927 0.91558442\n",
            " 0.91853601 0.9201889  0.91912633 0.90472255 0.90731995 0.90755608\n",
            " 0.90861865 0.91381346 0.91570248 0.91652893 0.91995277 0.91912633\n",
            "        nan        nan        nan        nan        nan        nan\n",
            "        nan        nan        nan        nan        nan        nan\n",
            "        nan        nan        nan        nan        nan        nan\n",
            "        nan        nan        nan        nan        nan        nan\n",
            "        nan        nan        nan        nan        nan        nan\n",
            "        nan        nan        nan        nan        nan        nan\n",
            "        nan        nan        nan        nan        nan        nan\n",
            "        nan        nan        nan        nan        nan        nan\n",
            "        nan        nan        nan        nan        nan        nan\n",
            "        nan        nan        nan        nan        nan        nan\n",
            "        nan        nan        nan        nan        nan        nan\n",
            "        nan        nan        nan        nan        nan        nan\n",
            "        nan        nan        nan        nan        nan        nan\n",
            "        nan        nan        nan        nan        nan        nan\n",
            "        nan        nan        nan        nan        nan        nan\n",
            "        nan        nan        nan        nan        nan        nan\n",
            "        nan        nan        nan        nan        nan        nan\n",
            "        nan        nan        nan        nan        nan        nan\n",
            "        nan        nan        nan        nan        nan        nan\n",
            "        nan        nan        nan        nan        nan        nan\n",
            "        nan        nan        nan        nan        nan        nan\n",
            "        nan        nan        nan        nan        nan        nan\n",
            "        nan        nan        nan        nan        nan        nan\n",
            "        nan        nan        nan        nan        nan        nan\n",
            "        nan        nan        nan        nan        nan        nan\n",
            "        nan        nan        nan        nan        nan        nan\n",
            "        nan        nan        nan        nan        nan        nan\n",
            "        nan        nan        nan        nan        nan        nan\n",
            "        nan        nan        nan        nan        nan        nan\n",
            "        nan        nan        nan        nan        nan        nan\n",
            "        nan        nan        nan        nan        nan        nan\n",
            "        nan        nan        nan        nan        nan        nan\n",
            "        nan        nan        nan        nan        nan        nan\n",
            "        nan        nan        nan        nan        nan        nan\n",
            "        nan        nan        nan        nan        nan        nan\n",
            "        nan        nan        nan        nan        nan        nan]\n",
            "  category=UserWarning,\n"
          ]
        },
        {
          "name": "stdout",
          "output_type": "stream",
          "text": [
            "[INFO] The best parameters are {'colsample_bytree': 1.0, 'gamma': 0, 'max_depth': 50, 'min_child_weight': 1, 'n_estimators': 80, 'subsample': 0.6}\n",
            "[INFO] The best score is 0.9373\n",
            "[INFO] The best parameters according to ci are {'colsample_bytree': 1.0, 'gamma': 0, 'max_depth': 50, 'min_child_weight': 1, 'n_estimators': 80, 'subsample': 0.8}\n",
            "[INFO] Train acc  is : 1.0000\n"
          ]
        }
      ],
      "source": [
        "x.fit()"
      ]
    },
    {
      "cell_type": "code",
      "execution_count": null,
      "metadata": {
        "id": "sGk0Bhfoac4V"
      },
      "outputs": [],
      "source": [
        "print(x.model)"
      ]
    },
    {
      "cell_type": "code",
      "execution_count": null,
      "metadata": {
        "id": "xjiEQ8TGmhQs"
      },
      "outputs": [],
      "source": [
        "x.save('xgb_Model')"
      ]
    },
    {
      "cell_type": "code",
      "execution_count": null,
      "metadata": {
        "id": "mOmonX4F2LPK"
      },
      "outputs": [],
      "source": [
        "x.model = XGBClassifier"
      ]
    },
    {
      "cell_type": "code",
      "execution_count": null,
      "metadata": {
        "colab": {
          "base_uri": "https://localhost:8080/",
          "height": 306
        },
        "id": "j74X8S0kntDe",
        "outputId": "b92fcb48-efdf-42c9-e906-dffaeba70c5f"
      },
      "outputs": [
        {
          "ename": "TypeError",
          "evalue": "ignored",
          "output_type": "error",
          "traceback": [
            "\u001b[0;31m---------------------------------------------------------------------------\u001b[0m",
            "\u001b[0;31mTypeError\u001b[0m                                 Traceback (most recent call last)",
            "\u001b[0;32m<ipython-input-143-476217e3ff8a>\u001b[0m in \u001b[0;36m<module>\u001b[0;34m()\u001b[0m\n\u001b[0;32m----> 1\u001b[0;31m \u001b[0mxgb\u001b[0m \u001b[0;34m=\u001b[0m \u001b[0msklearn\u001b[0m\u001b[0;34m.\u001b[0m\u001b[0mmetrics\u001b[0m\u001b[0;34m.\u001b[0m\u001b[0mclassification_report\u001b[0m\u001b[0;34m(\u001b[0m\u001b[0mx\u001b[0m\u001b[0;34m.\u001b[0m\u001b[0mpredict\u001b[0m\u001b[0;34m(\u001b[0m\u001b[0mx_train\u001b[0m\u001b[0;34m)\u001b[0m\u001b[0;34m,\u001b[0m \u001b[0my_train\u001b[0m\u001b[0;34m)\u001b[0m\u001b[0;34m\u001b[0m\u001b[0;34m\u001b[0m\u001b[0m\n\u001b[0m\u001b[1;32m      2\u001b[0m \u001b[0mxgb1\u001b[0m \u001b[0;34m=\u001b[0m \u001b[0msklearn\u001b[0m\u001b[0;34m.\u001b[0m\u001b[0mmetrics\u001b[0m\u001b[0;34m.\u001b[0m\u001b[0mclassification_report\u001b[0m\u001b[0;34m(\u001b[0m\u001b[0mx\u001b[0m\u001b[0;34m.\u001b[0m\u001b[0mpredict\u001b[0m\u001b[0;34m(\u001b[0m\u001b[0mX_test0\u001b[0m\u001b[0;34m)\u001b[0m\u001b[0;34m,\u001b[0m \u001b[0my_test0\u001b[0m\u001b[0;34m)\u001b[0m\u001b[0;34m\u001b[0m\u001b[0;34m\u001b[0m\u001b[0m\n",
            "\u001b[0;32m/content/modelHandler.py\u001b[0m in \u001b[0;36mpredict\u001b[0;34m(self, X)\u001b[0m\n\u001b[1;32m     73\u001b[0m     \u001b[0;32mdef\u001b[0m \u001b[0mpredict\u001b[0m\u001b[0;34m(\u001b[0m\u001b[0mself\u001b[0m\u001b[0;34m,\u001b[0m \u001b[0mX\u001b[0m\u001b[0;34m)\u001b[0m\u001b[0;34m:\u001b[0m\u001b[0;34m\u001b[0m\u001b[0;34m\u001b[0m\u001b[0m\n\u001b[1;32m     74\u001b[0m         \u001b[0mX\u001b[0m \u001b[0;34m=\u001b[0m \u001b[0mself\u001b[0m\u001b[0;34m.\u001b[0m\u001b[0m_ensure_dimensionalit\u001b[0m\u001b[0;34m(\u001b[0m\u001b[0mX\u001b[0m\u001b[0;34m)\u001b[0m\u001b[0;34m\u001b[0m\u001b[0;34m\u001b[0m\u001b[0m\n\u001b[0;32m---> 75\u001b[0;31m         \u001b[0;32mreturn\u001b[0m \u001b[0mself\u001b[0m\u001b[0;34m.\u001b[0m\u001b[0mmodel\u001b[0m\u001b[0;34m.\u001b[0m\u001b[0mpredict\u001b[0m\u001b[0;34m(\u001b[0m\u001b[0mself\u001b[0m\u001b[0;34m.\u001b[0m\u001b[0mdo_scaling\u001b[0m\u001b[0;34m(\u001b[0m\u001b[0mX\u001b[0m\u001b[0;34m)\u001b[0m\u001b[0;34m)\u001b[0m\u001b[0;34m\u001b[0m\u001b[0;34m\u001b[0m\u001b[0m\n\u001b[0m\u001b[1;32m     76\u001b[0m \u001b[0;34m\u001b[0m\u001b[0m\n\u001b[1;32m     77\u001b[0m     \u001b[0;32mdef\u001b[0m \u001b[0mavailable_models\u001b[0m\u001b[0;34m(\u001b[0m\u001b[0mself\u001b[0m\u001b[0;34m)\u001b[0m\u001b[0;34m:\u001b[0m\u001b[0;34m\u001b[0m\u001b[0;34m\u001b[0m\u001b[0m\n",
            "\u001b[0;31mTypeError\u001b[0m: predict() missing 1 required positional argument: 'data'"
          ]
        }
      ],
      "source": [
        "xgb = sklearn.metrics.classification_report(x.predict(X_train0), y_train)\n",
        "xgb1 = sklearn.metrics.classification_report(x.predict(X_test0), y_test0)"
      ]
    },
    {
      "cell_type": "code",
      "execution_count": null,
      "metadata": {
        "id": "PjwgLr9Hn6LP"
      },
      "outputs": [],
      "source": [
        "print(xgb)"
      ]
    },
    {
      "cell_type": "code",
      "execution_count": null,
      "metadata": {
        "id": "W_DjJ4mZvYZr"
      },
      "outputs": [],
      "source": [
        "print(xgb1)"
      ]
    },
    {
      "cell_type": "code",
      "execution_count": null,
      "metadata": {
        "id": "EElqnFs_SGud"
      },
      "outputs": [],
      "source": [
        "x.top_params(0.95, 5)"
      ]
    },
    {
      "cell_type": "code",
      "execution_count": null,
      "metadata": {
        "id": "ZmLkFE_YS0ZH"
      },
      "outputs": [],
      "source": [
        "x.boxplots(10)"
      ]
    },
    {
      "cell_type": "markdown",
      "metadata": {
        "id": "ZMrF-ArCU6Qt"
      },
      "source": [
        "# Test sencer\n"
      ]
    },
    {
      "cell_type": "code",
      "execution_count": null,
      "metadata": {
        "id": "yN6pIHp4U2pd"
      },
      "outputs": [],
      "source": [
        "mod = XGBClassifier(**{'colsample_bytree': 1.0, 'gamma': 0, 'max_depth': 16, 'min_child_weight': 1, 'n_estimators': 80, 'subsample': 0.8})\n",
        "mod.fit(x_train, y_train)\n",
        "xgb1 = sklearn.metrics.classification_report(mod.predict(x_train), y_train)\n",
        "print(xgb1)"
      ]
    },
    {
      "cell_type": "markdown",
      "metadata": {
        "id": "vUeaPdJoVPIE"
      },
      "source": [
        "## Dividim\n"
      ]
    },
    {
      "cell_type": "code",
      "execution_count": null,
      "metadata": {
        "id": "v-JLPXYoVQyC"
      },
      "outputs": [],
      "source": [
        "X_train0, X_test0, y_train0, y_test0 = train_test_split(x_train, y_train, test_size=0.2, random_state=42)"
      ]
    },
    {
      "cell_type": "code",
      "execution_count": null,
      "metadata": {
        "id": "1C1CrJ_LVjuB"
      },
      "outputs": [],
      "source": [
        "mod = XGBClassifier(**{'colsample_bytree': 1.0, 'gamma': 0, 'max_depth': 16, 'min_child_weight': 1, 'n_estimators': 80, 'subsample': 0.8})\n",
        "mod.fit(X_train0, y_train0)\n",
        "xgb2 = sklearn.metrics.classification_report(mod.predict(X_train0), y_train0)\n",
        "print(xgb2)"
      ]
    },
    {
      "cell_type": "code",
      "execution_count": null,
      "metadata": {
        "id": "ZQgHa2CXVrgV"
      },
      "outputs": [],
      "source": [
        "xgb3 = sklearn.metrics.classification_report(mod.predict(X_test0), y_test0)\n",
        "print(xgb3)"
      ]
    },
    {
      "cell_type": "markdown",
      "metadata": {
        "id": "fIenvCz0aRwb"
      },
      "source": [
        "## Amb same proporció"
      ]
    },
    {
      "cell_type": "code",
      "execution_count": null,
      "metadata": {
        "id": "1zNs5dUhaUm8"
      },
      "outputs": [],
      "source": [
        "X_train0, X_test0, y_train0, y_test0 = train_test_split(x_train, y_train, test_size=0.3, random_state=42)"
      ]
    },
    {
      "cell_type": "code",
      "execution_count": null,
      "metadata": {
        "id": "J2-kKvCAaZLK"
      },
      "outputs": [],
      "source": [
        "unique, counts = np.unique(y_train0, return_counts=True)\n",
        "dict(zip(unique, counts))"
      ]
    },
    {
      "cell_type": "code",
      "execution_count": null,
      "metadata": {
        "id": "aB1lk0LybNiU"
      },
      "outputs": [],
      "source": [
        "tu = np.zeros((500*2 + 489,4))\n",
        "tu[:500] = X_train0[y_train0 == 1][:500]\n",
        "tu[500:1000] = X_train0[y_train0 == 0][:500]\n",
        "tu[1000:] = X_train0[y_train0 == 2]\n",
        "tuy = np.zeros((500*2 + 489))\n",
        "tuy[:500] = y_train0[y_train0 == 1][:500]\n",
        "tuy[500:1000] = y_train0[y_train0 == 0][:500]\n",
        "tuy[1000:] = y_train0[y_train0 == 2]"
      ]
    },
    {
      "cell_type": "code",
      "execution_count": null,
      "metadata": {
        "id": "r1RNLw4UezqW"
      },
      "outputs": [],
      "source": [
        "tu, tuy = sklearn.utils.shuffle(tu, tuy)"
      ]
    },
    {
      "cell_type": "code",
      "execution_count": null,
      "metadata": {
        "id": "4LUPYbonfVmh"
      },
      "outputs": [],
      "source": [
        "mod2 = XGBClassifier(**{'colsample_bytree': 1.0, 'gamma': 0, 'max_depth': 16, 'min_child_weight': 1, 'n_estimators': 80, 'subsample': 0.8})\n",
        "mod2.fit(tu, tuy)\n",
        "xgb2 = sklearn.metrics.classification_report(mod2.predict(tu), tuy)\n",
        "print(xgb2)"
      ]
    },
    {
      "cell_type": "code",
      "execution_count": null,
      "metadata": {
        "id": "CLAtUkMwfvfu"
      },
      "outputs": [],
      "source": [
        "xgb3 = sklearn.metrics.classification_report(mod.predict(X_test0), y_test0)\n",
        "print(xgb3)"
      ]
    },
    {
      "cell_type": "markdown",
      "metadata": {
        "id": "LI_PTXUxhdT1"
      },
      "source": [
        "#  SMOTE"
      ]
    },
    {
      "cell_type": "code",
      "execution_count": null,
      "metadata": {
        "id": "jzydAn7Nh2qg"
      },
      "outputs": [],
      "source": [
        "X_train0, X_test0, y_train0, y_test0 = train_test_split(x_train, y_train, test_size=0.2, random_state=42)"
      ]
    },
    {
      "cell_type": "code",
      "execution_count": null,
      "metadata": {
        "id": "Dpi33etshgcb"
      },
      "outputs": [],
      "source": [
        "sm = SMOTE(random_state = 42, n_jobs = -1)\n",
        "x0, y0 = sm.fit_resample(X_train0, y_train0)\n",
        "unique, counts = np.unique(y0, return_counts=True)\n",
        "dict(zip(unique, counts))\n"
      ]
    },
    {
      "cell_type": "code",
      "execution_count": null,
      "metadata": {
        "id": "f8vA5T6ujauu"
      },
      "outputs": [],
      "source": [
        "mod3 = XGBClassifier(**{'colsample_bytree': 1.0, 'gamma': 0, 'max_depth': 16, 'min_child_weight': 1, 'n_estimators': 80, 'subsample': 0.8})\n",
        "mod3.fit(x0, y0)\n",
        "xgb3 = sklearn.metrics.classification_report(mod3.predict(x0), y0)\n",
        "print(xgb3)"
      ]
    },
    {
      "cell_type": "code",
      "execution_count": null,
      "metadata": {
        "id": "nbdN3zWWj5W_"
      },
      "outputs": [],
      "source": [
        "xgb3 = sklearn.metrics.classification_report(mod3.predict(X_test0), y_test0)\n",
        "print(xgb3)"
      ]
    },
    {
      "cell_type": "markdown",
      "metadata": {
        "id": "UMmuPUgelKnU"
      },
      "source": [
        "# SVMSMOTE"
      ]
    },
    {
      "cell_type": "code",
      "execution_count": null,
      "metadata": {
        "id": "GhabdCiMlNSl"
      },
      "outputs": [],
      "source": [
        "X_train0, X_test0, y_train0, y_test0 = train_test_split(x_train, y_train, test_size=0.2, random_state=42)"
      ]
    },
    {
      "cell_type": "code",
      "execution_count": null,
      "metadata": {
        "id": "8mqNqCRYlVc6"
      },
      "outputs": [],
      "source": [
        "sm = SVMSMOTE(random_state = 42, n_jobs = -1)\n",
        "x0, y0 = sm.fit_resample(X_train0, y_train0)\n",
        "unique, counts = np.unique(y0, return_counts=True)\n",
        "dict(zip(unique, counts))"
      ]
    },
    {
      "cell_type": "code",
      "execution_count": null,
      "metadata": {
        "id": "U6nF0H9Ele7C"
      },
      "outputs": [],
      "source": [
        "mod3 = XGBClassifier(**{'colsample_bytree': 1.0, 'gamma': 0, 'max_depth': 16, 'min_child_weight': 1, 'n_estimators': 80, 'subsample': 0.8})\n",
        "mod3.fit(x0, y0)\n",
        "xgb3 = sklearn.metrics.classification_report(mod3.predict(x0), y0)\n",
        "print(xgb3)"
      ]
    },
    {
      "cell_type": "code",
      "execution_count": null,
      "metadata": {
        "id": "-w99SEKjlkOq"
      },
      "outputs": [],
      "source": [
        "xgb3 = sklearn.metrics.classification_report(mod3.predict(X_test0), y_test0)\n",
        "print(xgb3)"
      ]
    },
    {
      "cell_type": "markdown",
      "metadata": {
        "id": "UUK9a1OPmNnE"
      },
      "source": [
        "# KMEANSMOTE"
      ]
    },
    {
      "cell_type": "code",
      "execution_count": null,
      "metadata": {
        "id": "_UBBPmuRmQc0"
      },
      "outputs": [],
      "source": [
        "X_train0, X_test0, y_train0, y_test0 = train_test_split(x_train, y_train, test_size=0.2, random_state=42)"
      ]
    },
    {
      "cell_type": "code",
      "execution_count": null,
      "metadata": {
        "id": "Et2NA-94mTy2"
      },
      "outputs": [],
      "source": [
        "sm = KMeansSMOTE(random_state = 42, n_jobs = -1)\n",
        "x0, y0 = sm.fit_resample(X_train0, y_train0)\n",
        "unique, counts = np.unique(y0, return_counts=True)\n",
        "dict(zip(unique, counts))"
      ]
    },
    {
      "cell_type": "code",
      "execution_count": null,
      "metadata": {
        "id": "jt0UicuXmhyJ"
      },
      "outputs": [],
      "source": [
        "mod3 = XGBClassifier(**{'colsample_bytree': 1.0, 'gamma': 0, 'max_depth': 25, 'min_child_weight': 1, 'n_estimators': 80, 'subsample': 0.8})\n",
        "mod3.fit(x0, y0)\n",
        "xgb3 = sklearn.metrics.classification_report(mod3.predict(x0), y0)\n",
        "print(xgb3)"
      ]
    },
    {
      "cell_type": "code",
      "execution_count": null,
      "metadata": {
        "id": "-utkxQCxmlKs"
      },
      "outputs": [],
      "source": [
        "xgb3 = sklearn.metrics.classification_report(mod3.predict(X_test0), y_test0)\n",
        "print(xgb3)"
      ]
    },
    {
      "cell_type": "markdown",
      "metadata": {
        "id": "g3mxxQdSrS9K"
      },
      "source": [
        "# Normalitzant"
      ]
    },
    {
      "cell_type": "code",
      "execution_count": null,
      "metadata": {
        "id": "fI3ghZBXrVWC"
      },
      "outputs": [],
      "source": []
    },
    {
      "cell_type": "code",
      "execution_count": null,
      "metadata": {
        "id": "mstCp-rNrU8R"
      },
      "outputs": [],
      "source": []
    },
    {
      "cell_type": "markdown",
      "metadata": {
        "id": "Jw3Kom8krSps"
      },
      "source": []
    }
  ],
  "metadata": {
    "accelerator": "GPU",
    "colab": {
      "collapsed_sections": [],
      "name": "Model_train.ipynb",
      "provenance": []
    },
    "kernelspec": {
      "display_name": "Python 3",
      "name": "python3"
    },
    "language_info": {
      "name": "python"
    }
  },
  "nbformat": 4,
  "nbformat_minor": 0
}
